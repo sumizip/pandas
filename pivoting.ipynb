{
 "cells": [
  {
   "cell_type": "markdown",
   "id": "c9d3aa81",
   "metadata": {},
   "source": [
    "# pandas 데이터 재구조화(reshape)"
   ]
  },
  {
   "cell_type": "markdown",
   "id": "b8794e88",
   "metadata": {},
   "source": [
    "- 피봇팅(pivoting)\n",
    "- 스태킹(stacking)과 언스태킹(unstacking)"
   ]
  },
  {
   "cell_type": "code",
   "execution_count": 1,
   "id": "d7328e9e",
   "metadata": {},
   "outputs": [],
   "source": [
    "import pandas as pd\n",
    "import numpy as np"
   ]
  },
  {
   "cell_type": "code",
   "execution_count": 2,
   "id": "334d548d",
   "metadata": {},
   "outputs": [],
   "source": [
    "from IPython.core.interactiveshell import InteractiveShell\n",
    "InteractiveShell.ast_node_interactivity=\"all\""
   ]
  },
  {
   "cell_type": "code",
   "execution_count": null,
   "id": "839efbdb",
   "metadata": {},
   "outputs": [],
   "source": [
    "## 피봇팅(pivoting)\n",
    "\n",
    "- 가지고 있는 데이터원본을 원하는 형태의 가공된 정보를 보여주는 것\n",
    "    - 자료의 형태를 변경하기 위해 많이 사용하는 방법 \n",
    "- 엑셀에도 있음. \n",
    "- 인덱스, 컬럼, 벨류스가 컬럼으로 있을 때 , 한 컬럼은 인덱스, 한 컬럼은 컬럼, 한 컬럼은 데이터로 \n",
    "- 특정 기준으로 데이터를 재정렬"
   ]
  },
  {
   "cell_type": "code",
   "execution_count": null,
   "id": "94924354",
   "metadata": {},
   "outputs": [],
   "source": [
    "data = {\"도시\": [\"서울\", \"서울\", \"서울\", \"부산\", \"부산\", \"부산\", \"인천\", \"인천\"],\n",
    "        \"연도\": [\"2015\", \"2010\", \"2005\", \"2015\", \"2010\", \"2005\", \"2015\", \"2010\"],\n",
    "        \"인구\": [9904312, 9631482, 9762546, 3448737, 3393191,\n",
    "               3512547, 2890451, 263203],\n",
    "        \"지역\": [\"수도권\", \"수도권\", \"수도권\", \"경상권\", \"경상권\", \"경상권\", \"수도권\", \"수도권\"]\n",
    "}\n",
    "\n",
    "#총 8개의 데이터값\n",
    "\n",
    "columns = [\"도시\", \"연도\", \"인구\", \"지역\"]\n",
    "\n",
    "#컬럼 4개 \n",
    "\n",
    "df1 = pd.DataFrame(data, columns=columns)\n",
    "df1"
   ]
  },
  {
   "cell_type": "code",
   "execution_count": null,
   "id": "f675b266",
   "metadata": {},
   "outputs": [],
   "source": [
    "df1.pivot(index='도시', columns='연도', values='인구')\n",
    "df1 #원본은 그대로 "
   ]
  },
  {
   "cell_type": "code",
   "execution_count": 1,
   "id": "6dc87072",
   "metadata": {
    "scrolled": true
   },
   "outputs": [
    {
     "ename": "NameError",
     "evalue": "name 'df1' is not defined",
     "output_type": "error",
     "traceback": [
      "\u001b[0;31m---------------------------------------------------------------------------\u001b[0m",
      "\u001b[0;31mNameError\u001b[0m                                 Traceback (most recent call last)",
      "\u001b[0;32m/var/folders/p9/8hvxfvwd1cbfjjyrzwqff47m0000gn/T/ipykernel_3514/2358123961.py\u001b[0m in \u001b[0;36m<module>\u001b[0;34m\u001b[0m\n\u001b[1;32m      1\u001b[0m \u001b[0;31m#다중 인덱스 형태\u001b[0m\u001b[0;34m\u001b[0m\u001b[0;34m\u001b[0m\u001b[0m\n\u001b[0;32m----> 2\u001b[0;31m \u001b[0mdf1\u001b[0m\u001b[0;34m.\u001b[0m\u001b[0mpivot\u001b[0m\u001b[0;34m(\u001b[0m\u001b[0mindex\u001b[0m\u001b[0;34m=\u001b[0m\u001b[0;34m[\u001b[0m\u001b[0;34m'지역'\u001b[0m\u001b[0;34m,\u001b[0m\u001b[0;34m'도시'\u001b[0m\u001b[0;34m]\u001b[0m\u001b[0;34m,\u001b[0m \u001b[0mcolumns\u001b[0m\u001b[0;34m=\u001b[0m\u001b[0;34m'연도'\u001b[0m\u001b[0;34m,\u001b[0m \u001b[0mvalues\u001b[0m\u001b[0;34m=\u001b[0m\u001b[0;34m'인구'\u001b[0m\u001b[0;34m)\u001b[0m\u001b[0;34m\u001b[0m\u001b[0;34m\u001b[0m\u001b[0m\n\u001b[0m\u001b[1;32m      3\u001b[0m \u001b[0;31m#지역 순서가 ㄱㄴㄷ 순인지, 데이터 적은 순인지\u001b[0m\u001b[0;34m\u001b[0m\u001b[0;34m\u001b[0m\u001b[0m\n",
      "\u001b[0;31mNameError\u001b[0m: name 'df1' is not defined"
     ]
    }
   ],
   "source": [
    "#다중 인덱스 형태\n",
    "df1.pivot(index=['지역','도시'], columns='연도', values='인구')\n",
    "#지역 순서가 ㄱㄴㄷ 순인지, 데이터 적은 순인지 "
   ]
  },
  {
   "cell_type": "code",
   "execution_count": null,
   "id": "0bb06126",
   "metadata": {},
   "outputs": [],
   "source": [
    "pd.pivot_table(df, index='class', columns='survived', values='age')"
   ]
  },
  {
   "cell_type": "code",
   "execution_count": null,
   "id": "c12d2ee3",
   "metadata": {},
   "outputs": [],
   "source": [
    "pd.pivot_table(df, index=['class','sex'], columns='survived', \n",
    "               values=['age','fare'], aggfunc=['mean','max'])"
   ]
  },
  {
   "cell_type": "code",
   "execution_count": null,
   "id": "87d4b57c",
   "metadata": {},
   "outputs": [],
   "source": [
    "pd.pivot_table(df, index=['class','sex'], columns='survived', \n",
    "               values=['age','fare'], aggfunc=['mean','min','max'])"
   ]
  },
  {
   "cell_type": "code",
   "execution_count": null,
   "id": "c24c987c",
   "metadata": {},
   "outputs": [],
   "source": []
  }
 ],
 "metadata": {
  "kernelspec": {
   "display_name": "Python 3 (ipykernel)",
   "language": "python",
   "name": "python3"
  },
  "language_info": {
   "codemirror_mode": {
    "name": "ipython",
    "version": 3
   },
   "file_extension": ".py",
   "mimetype": "text/x-python",
   "name": "python",
   "nbconvert_exporter": "python",
   "pygments_lexer": "ipython3",
   "version": "3.9.13"
  }
 },
 "nbformat": 4,
 "nbformat_minor": 5
}
