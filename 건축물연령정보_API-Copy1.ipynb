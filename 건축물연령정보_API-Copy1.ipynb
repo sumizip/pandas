{
 "cells": [
  {
   "cell_type": "code",
   "execution_count": 40,
   "id": "60595592",
   "metadata": {},
   "outputs": [],
   "source": [
    "import requests\n",
    "import numpy as np\n",
    "import pandas as pd\n",
    "from bs4 import BeautifulSoup\n",
    "from urllib.request import urlopen"
   ]
  },
  {
   "cell_type": "markdown",
   "id": "67a80b27",
   "metadata": {},
   "source": [
    "### API 요청을 통한 데이터 수집\n",
    "- 국토교통부_건축물연령정보서비스\n",
    "- https://www.data.go.kr/data/15057197/openapi.do"
   ]
  },
  {
   "cell_type": "code",
   "execution_count": 75,
   "id": "2e11cab5",
   "metadata": {},
   "outputs": [],
   "source": [
    "# 요청 url\n",
    "url = 'http://apis.data.go.kr/1611000/nsdi/BuildingAgeService/attr/getBuildingAge'\n",
    "\n",
    "# 인증키\n",
    "key = 'vUmQqqkTEt8z%2Bid6c2ti6kImrxBR3ZdALI0kdi21qKxJAtgNhyJ6JaIAFeYYCiLmWzkNkyOGcYzLJWE%2FOd9CHw%3D%3D'\n",
    "\n",
    "#필수 요청 params : pnu (고유번호(8자리 이상))"
   ]
  },
  {
   "cell_type": "markdown",
   "id": "3c561326",
   "metadata": {},
   "source": [
    "#### 1) 요청변수 불러오기\n",
    "- 필수 요청 변수인 고유번호(법정동코드)를 '행정동법정동코드.xlsx'에서 추출\n",
    "- 부산 지역의 법정동코드만 사용"
   ]
  },
  {
   "cell_type": "code",
   "execution_count": 85,
   "id": "e1e6ed99",
   "metadata": {},
   "outputs": [],
   "source": [
    "code = pd.read_excel('Documents/행정동법정동코드.xlsx')"
   ]
  },
  {
   "cell_type": "code",
   "execution_count": 88,
   "id": "600393e7",
   "metadata": {
    "scrolled": true
   },
   "outputs": [],
   "source": [
    "#부산 지역 데이터만 추출\n",
    "bs_code = code[code['시도명'] == '부산광역시']"
   ]
  },
  {
   "cell_type": "code",
   "execution_count": 91,
   "id": "61027235",
   "metadata": {
    "scrolled": true
   },
   "outputs": [
    {
     "name": "stderr",
     "output_type": "stream",
     "text": [
      "/var/folders/p9/8hvxfvwd1cbfjjyrzwqff47m0000gn/T/ipykernel_53901/4067004193.py:1: SettingWithCopyWarning: \n",
      "A value is trying to be set on a copy of a slice from a DataFrame\n",
      "\n",
      "See the caveats in the documentation: https://pandas.pydata.org/pandas-docs/stable/user_guide/indexing.html#returning-a-view-versus-a-copy\n",
      "  bs_code.drop('말소일자', axis=1, inplace=True)\n"
     ]
    }
   ],
   "source": [
    "#필요없는 컬럼, 결측치 처리\n",
    "bs_code.drop('말소일자', axis=1, inplace=True)\n",
    "bs_code.dropna(inplace=True)\n",
    "bs_code.reset_index(inplace=True, drop=True)"
   ]
  },
  {
   "cell_type": "code",
   "execution_count": 98,
   "id": "72a9bf75",
   "metadata": {},
   "outputs": [],
   "source": [
    "#요청변수로 사용하기 위해 [법정동코드] 컬럼의 데이터를 리스트로 저장\n",
    "code_list = list(bs_code.법정동코드)"
   ]
  },
  {
   "cell_type": "code",
   "execution_count": 133,
   "id": "82dbbd46",
   "metadata": {},
   "outputs": [
    {
     "data": {
      "text/plain": [
       "361"
      ]
     },
     "execution_count": 133,
     "metadata": {},
     "output_type": "execute_result"
    }
   ],
   "source": [
    "len(code_list)"
   ]
  },
  {
   "cell_type": "markdown",
   "id": "83db5fa6",
   "metadata": {},
   "source": [
    "#### 2) API를 활용한 데이터 수집"
   ]
  },
  {
   "cell_type": "code",
   "execution_count": 147,
   "id": "5ffc9b32",
   "metadata": {},
   "outputs": [],
   "source": [
    "def Getdata(pnu) :\n",
    "    real_url = url + '?' + 'serviceKey=' + key + '&pnu=' + pnu + '&format=' + 'xml'\n",
    "    html = requests.get(real_url).text\n",
    "    return html\n",
    "\n",
    "for i in range(len(code_list)) :\n",
    "    pnu = str(code_list[i])\n",
    "    soup = BeautifulSoup(Getdata(pnu), 'xml')"
   ]
  },
  {
   "cell_type": "code",
   "execution_count": 148,
   "id": "f8c25987",
   "metadata": {
    "scrolled": true
   },
   "outputs": [
    {
     "data": {
      "text/plain": [
       "<?xml version=\"1.0\" encoding=\"utf-8\"?>\n",
       "<response><numOfRows>10</numOfRows><pageNo>1</pageNo><totalCount>202</totalCount><fields><field><gisIdntfCno>1989394345522051156000000000</gisIdntfCno><pnu>2671033031100240001</pnu><ldCode>2671033031</ldCode><ldCodeNm>부산광역시 기장군 철마면 임기리</ldCodeNm><regstrSeCode>1</regstrSeCode><regstrSeCodeNm>일반</regstrSeCodeNm><mnnmSlno>24-1</mnnmSlno><buldIdntfcNo>14586</buldIdntfcNo><agbldgSeCode>1</agbldgSeCode><agbldgSeCodeNm>일반건축물</agbldgSeCodeNm><buldKndCode>2</buldKndCode><buldKndCodeNm>일반건축물대방</buldKndCodeNm><buldTotar>98.76</buldTotar><strctCode>12</strctCode><strctCodeNm>블록구조</strctCodeNm><mainPrposCode>01000</mainPrposCode><mainPrposCodeNm>단독주택</mainPrposCodeNm><buldHg>0</buldHg><groundFloorCo>1</groundFloorCo><undgrndFloorCo>0</undgrndFloorCo><useConfmDe>1989-06-27</useConfmDe><buldAge>35</buldAge><agrdeSeCode>04</agrdeSeCode><agrdeSeCodeNm>30대</agrdeSeCodeNm><agrde5ClassSeCode>040</agrde5ClassSeCode><agrde5ClassSeCodeNm>40세미만</agrde5ClassSeCodeNm><lastUpdtDt>2023-01-11</lastUpdtDt></field><field><gisIdntfCno>0000394697482051867300000000</gisIdntfCno><pnu>2671033031100450000</pnu><ldCode>2671033031</ldCode><ldCodeNm>부산광역시 기장군 철마면 임기리</ldCodeNm><regstrSeCode>1</regstrSeCode><regstrSeCodeNm>일반</regstrSeCodeNm><mnnmSlno>45</mnnmSlno><buldIdntfcNo>14401</buldIdntfcNo><agbldgSeCode>1</agbldgSeCode><agbldgSeCodeNm>일반건축물</agbldgSeCodeNm><buldKndCode>2</buldKndCode><buldKndCodeNm>일반건축물대방</buldKndCodeNm><buldTotar>31.36</buldTotar><strctCode>51</strctCode><strctCodeNm>일반목구조</strctCodeNm><mainPrposCode>01000</mainPrposCode><mainPrposCodeNm>단독주택</mainPrposCodeNm><buldHg>0</buldHg><groundFloorCo>1</groundFloorCo><undgrndFloorCo>0</undgrndFloorCo><agrdeSeCode>ZZ</agrdeSeCode><agrdeSeCodeNm>기타</agrdeSeCodeNm><agrde5ClassSeCode>ZZZ</agrde5ClassSeCode><agrde5ClassSeCodeNm>구분없</agrde5ClassSeCodeNm><lastUpdtDt>2023-01-11</lastUpdtDt></field><field><gisIdntfCno>0000394749382051707200000000</gisIdntfCno><pnu>2671033031100670000</pnu><ldCode>2671033031</ldCode><ldCodeNm>부산광역시 기장군 철마면 임기리</ldCodeNm><regstrSeCode>1</regstrSeCode><regstrSeCodeNm>일반</regstrSeCodeNm><mnnmSlno>67</mnnmSlno><buldIdntfcNo>14405</buldIdntfcNo><agbldgSeCode>1</agbldgSeCode><agbldgSeCodeNm>일반건축물</agbldgSeCodeNm><buldKndCode>2</buldKndCode><buldKndCodeNm>일반건축물대방</buldKndCodeNm><buldTotar>37.24</buldTotar><strctCode>12</strctCode><strctCodeNm>블록구조</strctCodeNm><mainPrposCode>01000</mainPrposCode><mainPrposCodeNm>단독주택</mainPrposCodeNm><buldHg>0</buldHg><groundFloorCo>1</groundFloorCo><undgrndFloorCo>0</undgrndFloorCo><agrdeSeCode>ZZ</agrdeSeCode><agrdeSeCodeNm>기타</agrdeSeCodeNm><agrde5ClassSeCode>ZZZ</agrde5ClassSeCode><agrde5ClassSeCodeNm>구분없</agrde5ClassSeCodeNm><lastUpdtDt>2023-01-11</lastUpdtDt></field><field><gisIdntfCno>2004394730582051571100000000</gisIdntfCno><pnu>2671033031100680000</pnu><ldCode>2671033031</ldCode><ldCodeNm>부산광역시 기장군 철마면 임기리</ldCodeNm><regstrSeCode>1</regstrSeCode><regstrSeCodeNm>일반</regstrSeCodeNm><mnnmSlno>68</mnnmSlno><buldIdntfcNo>14406</buldIdntfcNo><agbldgSeCode>1</agbldgSeCode><agbldgSeCodeNm>일반건축물</agbldgSeCodeNm><buldKndCode>2</buldKndCode><buldKndCodeNm>일반건축물대방</buldKndCodeNm><buldTotar>97.03</buldTotar><strctCode>11</strctCode><strctCodeNm>벽돌구조</strctCodeNm><mainPrposCode>01000</mainPrposCode><mainPrposCodeNm>단독주택</mainPrposCodeNm><buldHg>7.1</buldHg><groundFloorCo>2</groundFloorCo><undgrndFloorCo>0</undgrndFloorCo><prmisnDe>2003-10-15</prmisnDe><useConfmDe>2004-03-04</useConfmDe><buldAge>20</buldAge><agrdeSeCode>03</agrdeSeCode><agrdeSeCodeNm>20대</agrdeSeCodeNm><agrde5ClassSeCode>025</agrde5ClassSeCode><agrde5ClassSeCodeNm>25세미만</agrde5ClassSeCodeNm><lastUpdtDt>2023-01-11</lastUpdtDt></field><field><gisIdntfCno>1997394715332051686300000000</gisIdntfCno><pnu>2671033031100690000</pnu><ldCode>2671033031</ldCode><ldCodeNm>부산광역시 기장군 철마면 임기리</ldCodeNm><regstrSeCode>1</regstrSeCode><regstrSeCodeNm>일반</regstrSeCodeNm><mnnmSlno>69</mnnmSlno><buldIdntfcNo>14407</buldIdntfcNo><agbldgSeCode>1</agbldgSeCode><agbldgSeCodeNm>일반건축물</agbldgSeCodeNm><buldKndCode>2</buldKndCode><buldKndCodeNm>일반건축물대방</buldKndCodeNm><buldTotar>89.01</buldTotar><strctCode>11</strctCode><strctCodeNm>벽돌구조</strctCodeNm><mainPrposCode>01000</mainPrposCode><mainPrposCodeNm>단독주택</mainPrposCodeNm><buldHg>5</buldHg><groundFloorCo>1</groundFloorCo><undgrndFloorCo>0</undgrndFloorCo><prmisnDe>1997-01-17</prmisnDe><useConfmDe>1997-06-12</useConfmDe><buldAge>27</buldAge><agrdeSeCode>03</agrdeSeCode><agrdeSeCodeNm>20대</agrdeSeCodeNm><agrde5ClassSeCode>030</agrde5ClassSeCode><agrde5ClassSeCodeNm>30세미만</agrde5ClassSeCodeNm><lastUpdtDt>2023-01-11</lastUpdtDt></field><field><gisIdntfCno>1941394703302051660800000000</gisIdntfCno><pnu>2671033031100700000</pnu><ldCode>2671033031</ldCode><ldCodeNm>부산광역시 기장군 철마면 임기리</ldCodeNm><regstrSeCode>1</regstrSeCode><regstrSeCodeNm>일반</regstrSeCodeNm><mnnmSlno>70</mnnmSlno><buldIdntfcNo>14408</buldIdntfcNo><agbldgSeCode>1</agbldgSeCode><agbldgSeCodeNm>일반건축물</agbldgSeCodeNm><buldKndCode>2</buldKndCode><buldKndCodeNm>일반건축물대방</buldKndCodeNm><buldTotar>54.36</buldTotar><strctCode>51</strctCode><strctCodeNm>일반목구조</strctCodeNm><mainPrposCode>01000</mainPrposCode><mainPrposCodeNm>단독주택</mainPrposCodeNm><buldHg>0</buldHg><groundFloorCo>1</groundFloorCo><undgrndFloorCo>0</undgrndFloorCo><useConfmDe>1941</useConfmDe><buldAge>83</buldAge><agrdeSeCode>09</agrdeSeCode><agrdeSeCodeNm>80대</agrdeSeCodeNm><agrde5ClassSeCode>085</agrde5ClassSeCode><agrde5ClassSeCodeNm>85세미만</agrde5ClassSeCodeNm><lastUpdtDt>2023-01-11</lastUpdtDt></field><field><gisIdntfCno>2014212864712030087400000000</gisIdntfCno><pnu>2671033031100780000</pnu><ldCode>2671033031</ldCode><ldCodeNm>부산광역시 기장군 철마면 임기리</ldCodeNm><regstrSeCode>1</regstrSeCode><regstrSeCodeNm>일반</regstrSeCodeNm><mnnmSlno>78</mnnmSlno><buldIdntfcNo>100226978</buldIdntfcNo><agbldgSeCode>1</agbldgSeCode><agbldgSeCodeNm>일반건축물</agbldgSeCodeNm><buldKndCode>2</buldKndCode><buldKndCodeNm>일반건축물대방</buldKndCodeNm><buldDongNm>부속건축물제1동</buldDongNm><buldTotar>10.89</buldTotar><strctCode>51</strctCode><strctCodeNm>일반목구조</strctCodeNm><mainPrposCode>01000</mainPrposCode><mainPrposCodeNm>단독주택</mainPrposCodeNm><buldHg>4.3</buldHg><groundFloorCo>1</groundFloorCo><undgrndFloorCo>0</undgrndFloorCo><prmisnDe>2013-10-01</prmisnDe><useConfmDe>2014-05-20</useConfmDe><buldAge>10</buldAge><agrdeSeCode>02</agrdeSeCode><agrdeSeCodeNm>10대</agrdeSeCodeNm><agrde5ClassSeCode>015</agrde5ClassSeCode><agrde5ClassSeCodeNm>15세미만</agrde5ClassSeCodeNm><lastUpdtDt>2023-01-11</lastUpdtDt></field><field><gisIdntfCno>2014212865472030193700000000</gisIdntfCno><pnu>2671033031100780000</pnu><ldCode>2671033031</ldCode><ldCodeNm>부산광역시 기장군 철마면 임기리</ldCodeNm><regstrSeCode>1</regstrSeCode><regstrSeCodeNm>일반</regstrSeCodeNm><mnnmSlno>78</mnnmSlno><buldIdntfcNo>100226977</buldIdntfcNo><agbldgSeCode>1</agbldgSeCode><agbldgSeCodeNm>일반건축물</agbldgSeCodeNm><buldKndCode>2</buldKndCode><buldKndCodeNm>일반건축물대방</buldKndCodeNm><buldDongNm>주건축물제1동</buldDongNm><buldTotar>109.04</buldTotar><strctCode>51</strctCode><strctCodeNm>일반목구조</strctCodeNm><mainPrposCode>01000</mainPrposCode><mainPrposCodeNm>단독주택</mainPrposCodeNm><buldHg>7.5</buldHg><groundFloorCo>2</groundFloorCo><undgrndFloorCo>0</undgrndFloorCo><prmisnDe>2013-10-01</prmisnDe><useConfmDe>2014-05-20</useConfmDe><buldAge>10</buldAge><agrdeSeCode>02</agrdeSeCode><agrdeSeCodeNm>10대</agrdeSeCodeNm><agrde5ClassSeCode>015</agrde5ClassSeCode><agrde5ClassSeCodeNm>15세미만</agrde5ClassSeCodeNm><lastUpdtDt>2023-01-11</lastUpdtDt></field><field><gisIdntfCno>1997394907822051617000000000</gisIdntfCno><pnu>2671033031101120000</pnu><ldCode>2671033031</ldCode><ldCodeNm>부산광역시 기장군 철마면 임기리</ldCodeNm><regstrSeCode>1</regstrSeCode><regstrSeCodeNm>일반</regstrSeCodeNm><mnnmSlno>112</mnnmSlno><buldIdntfcNo>14411</buldIdntfcNo><agbldgSeCode>1</agbldgSeCode><agbldgSeCodeNm>일반건축물</agbldgSeCodeNm><buldKndCode>2</buldKndCode><buldKndCodeNm>일반건축물대방</buldKndCodeNm><buldTotar>196.76</buldTotar><strctCode>21</strctCode><strctCodeNm>철근콘크리트구조</strctCodeNm><mainPrposCode>01000</mainPrposCode><mainPrposCodeNm>단독주택</mainPrposCodeNm><buldHg>0</buldHg><groundFloorCo>1</groundFloorCo><undgrndFloorCo>1</undgrndFloorCo><prmisnDe>1995-02-02</prmisnDe><useConfmDe>1997-12-13</useConfmDe><buldAge>27</buldAge><agrdeSeCode>03</agrdeSeCode><agrdeSeCodeNm>20대</agrdeSeCodeNm><agrde5ClassSeCode>030</agrde5ClassSeCode><agrde5ClassSeCodeNm>30세미만</agrde5ClassSeCodeNm><lastUpdtDt>2023-01-11</lastUpdtDt></field><field><gisIdntfCno>2017212863702038308600000000</gisIdntfCno><pnu>2671033031101780001</pnu><ldCode>2671033031</ldCode><ldCodeNm>부산광역시 기장군 철마면 임기리</ldCodeNm><regstrSeCode>1</regstrSeCode><regstrSeCodeNm>일반</regstrSeCodeNm><mnnmSlno>178-1</mnnmSlno><buldIdntfcNo>100251409</buldIdntfcNo><agbldgSeCode>1</agbldgSeCode><agbldgSeCodeNm>일반건축물</agbldgSeCodeNm><buldKndCode>2</buldKndCode><buldKndCodeNm>일반건축물대방</buldKndCodeNm><buldTotar>99.66</buldTotar><strctCode>21</strctCode><strctCodeNm>철근콘크리트구조</strctCodeNm><mainPrposCode>01000</mainPrposCode><mainPrposCodeNm>단독주택</mainPrposCodeNm><buldHg>7.8</buldHg><groundFloorCo>2</groundFloorCo><undgrndFloorCo>0</undgrndFloorCo><prmisnDe>2016-04-25</prmisnDe><useConfmDe>2017-03-13</useConfmDe><buldAge>7</buldAge><agrdeSeCode>01</agrdeSeCode><agrdeSeCodeNm>10세미만</agrdeSeCodeNm><agrde5ClassSeCode>010</agrde5ClassSeCode><agrde5ClassSeCodeNm>10세미만</agrde5ClassSeCodeNm><lastUpdtDt>2023-01-11</lastUpdtDt></field></fields></response>"
      ]
     },
     "execution_count": 148,
     "metadata": {},
     "output_type": "execute_result"
    }
   ],
   "source": [
    "soup"
   ]
  },
  {
   "cell_type": "markdown",
   "id": "d1c8112a",
   "metadata": {},
   "source": [
    "#### 3) 원하는 정보 추출"
   ]
  },
  {
   "cell_type": "code",
   "execution_count": 149,
   "id": "2fcf016b",
   "metadata": {},
   "outputs": [],
   "source": [
    "#<field> 태그 하위 항목들 가져오기\n",
    "items = soup.find_all('field')"
   ]
  },
  {
   "cell_type": "code",
   "execution_count": 150,
   "id": "ffe83cd0",
   "metadata": {},
   "outputs": [],
   "source": [
    "#얻고 싶은 데이터를 리스트에 추가 - 법정동코드 / 법정동명 / 건물연령\n",
    "\n",
    "loc_code = []\n",
    "loc = []\n",
    "building_age = []\n",
    "\n",
    "for item in items :\n",
    "    try : \n",
    "        loc_code.append(item.find('ldCode').get_text())\n",
    "        loc.append(item.find('ldCodeNm').get_text())\n",
    "        building_age.append(item.find('buldAge').get_text())\n",
    "    except : \n",
    "        pass"
   ]
  },
  {
   "cell_type": "code",
   "execution_count": 151,
   "id": "8559e9bb",
   "metadata": {
    "scrolled": true
   },
   "outputs": [
    {
     "data": {
      "text/plain": [
       "['부산광역시 기장군 철마면 임기리',\n",
       " '부산광역시 기장군 철마면 임기리',\n",
       " '부산광역시 기장군 철마면 임기리',\n",
       " '부산광역시 기장군 철마면 임기리',\n",
       " '부산광역시 기장군 철마면 임기리',\n",
       " '부산광역시 기장군 철마면 임기리',\n",
       " '부산광역시 기장군 철마면 임기리',\n",
       " '부산광역시 기장군 철마면 임기리',\n",
       " '부산광역시 기장군 철마면 임기리',\n",
       " '부산광역시 기장군 철마면 임기리']"
      ]
     },
     "execution_count": 151,
     "metadata": {},
     "output_type": "execute_result"
    }
   ],
   "source": [
    "loc"
   ]
  },
  {
   "cell_type": "code",
   "execution_count": 152,
   "id": "5ff6afe6",
   "metadata": {
    "scrolled": false
   },
   "outputs": [
    {
     "data": {
      "text/plain": [
       "['35', '20', '27', '83', '10', '10', '27', '7']"
      ]
     },
     "execution_count": 152,
     "metadata": {},
     "output_type": "execute_result"
    }
   ],
   "source": [
    "building_age"
   ]
  },
  {
   "cell_type": "code",
   "execution_count": null,
   "id": "eaa877b9",
   "metadata": {},
   "outputs": [],
   "source": [
    "# 데이터 프레임으로 만들기"
   ]
  },
  {
   "cell_type": "code",
   "execution_count": 153,
   "id": "2de0b460",
   "metadata": {},
   "outputs": [],
   "source": [
    "total = {'법정동코드' : loc_code, \n",
    "                  '법정동명' : loc, \n",
    "                  '건물연령' : building_age}\n",
    "\n",
    "df = pd.DataFrame.from_dict(total, orient='index')"
   ]
  },
  {
   "cell_type": "code",
   "execution_count": 154,
   "id": "7a36a1df",
   "metadata": {},
   "outputs": [],
   "source": [
    "df = df.transpose()"
   ]
  },
  {
   "cell_type": "code",
   "execution_count": 155,
   "id": "301a1023",
   "metadata": {
    "scrolled": false
   },
   "outputs": [
    {
     "data": {
      "text/html": [
       "<div>\n",
       "<style scoped>\n",
       "    .dataframe tbody tr th:only-of-type {\n",
       "        vertical-align: middle;\n",
       "    }\n",
       "\n",
       "    .dataframe tbody tr th {\n",
       "        vertical-align: top;\n",
       "    }\n",
       "\n",
       "    .dataframe thead th {\n",
       "        text-align: right;\n",
       "    }\n",
       "</style>\n",
       "<table border=\"1\" class=\"dataframe\">\n",
       "  <thead>\n",
       "    <tr style=\"text-align: right;\">\n",
       "      <th></th>\n",
       "      <th>법정동코드</th>\n",
       "      <th>법정동명</th>\n",
       "      <th>건물연령</th>\n",
       "    </tr>\n",
       "  </thead>\n",
       "  <tbody>\n",
       "    <tr>\n",
       "      <th>0</th>\n",
       "      <td>2671033031</td>\n",
       "      <td>부산광역시 기장군 철마면 임기리</td>\n",
       "      <td>35</td>\n",
       "    </tr>\n",
       "    <tr>\n",
       "      <th>1</th>\n",
       "      <td>2671033031</td>\n",
       "      <td>부산광역시 기장군 철마면 임기리</td>\n",
       "      <td>20</td>\n",
       "    </tr>\n",
       "    <tr>\n",
       "      <th>2</th>\n",
       "      <td>2671033031</td>\n",
       "      <td>부산광역시 기장군 철마면 임기리</td>\n",
       "      <td>27</td>\n",
       "    </tr>\n",
       "    <tr>\n",
       "      <th>3</th>\n",
       "      <td>2671033031</td>\n",
       "      <td>부산광역시 기장군 철마면 임기리</td>\n",
       "      <td>83</td>\n",
       "    </tr>\n",
       "    <tr>\n",
       "      <th>4</th>\n",
       "      <td>2671033031</td>\n",
       "      <td>부산광역시 기장군 철마면 임기리</td>\n",
       "      <td>10</td>\n",
       "    </tr>\n",
       "  </tbody>\n",
       "</table>\n",
       "</div>"
      ],
      "text/plain": [
       "        법정동코드               법정동명 건물연령\n",
       "0  2671033031  부산광역시 기장군 철마면 임기리   35\n",
       "1  2671033031  부산광역시 기장군 철마면 임기리   20\n",
       "2  2671033031  부산광역시 기장군 철마면 임기리   27\n",
       "3  2671033031  부산광역시 기장군 철마면 임기리   83\n",
       "4  2671033031  부산광역시 기장군 철마면 임기리   10"
      ]
     },
     "execution_count": 155,
     "metadata": {},
     "output_type": "execute_result"
    }
   ],
   "source": [
    "df.head()"
   ]
  },
  {
   "cell_type": "code",
   "execution_count": 156,
   "id": "6f7b02d6",
   "metadata": {},
   "outputs": [],
   "source": [
    "# pnu = '2611010200'\n",
    "\n",
    "# real_url = url + '?' + 'serviceKey=' + key + '&pnu=' + 'pnu' + '&format=' + 'xml'\n",
    "\n",
    "# html = requests.get(real_url).text\n",
    "\n",
    "# soup = BeautifulSoup(html, 'xml')"
   ]
  }
 ],
 "metadata": {
  "kernelspec": {
   "display_name": "Python 3 (ipykernel)",
   "language": "python",
   "name": "python3"
  },
  "language_info": {
   "codemirror_mode": {
    "name": "ipython",
    "version": 3
   },
   "file_extension": ".py",
   "mimetype": "text/x-python",
   "name": "python",
   "nbconvert_exporter": "python",
   "pygments_lexer": "ipython3",
   "version": "3.9.13"
  }
 },
 "nbformat": 4,
 "nbformat_minor": 5
}
