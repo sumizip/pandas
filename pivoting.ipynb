{
 "cells": [
  {
   "cell_type": "markdown",
   "id": "c9d3aa81",
   "metadata": {},
   "source": [
    "# pandas 데이터 재구조화(reshape)"
   ]
  },
  {
   "cell_type": "markdown",
   "id": "b8794e88",
   "metadata": {},
   "source": [
    "- 피봇팅(pivoting)\n",
    "- 스태킹(stacking)과 언스태킹(unstacking)"
   ]
  },
  {
   "cell_type": "code",
   "execution_count": 1,
   "id": "d7328e9e",
   "metadata": {},
   "outputs": [],
   "source": [
    "import pandas as pd\n",
    "import numpy as np"
   ]
  },
  {
   "cell_type": "code",
   "execution_count": 2,
   "id": "334d548d",
   "metadata": {},
   "outputs": [],
   "source": [
    "from IPython.core.interactiveshell import InteractiveShell\n",
    "InteractiveShell.ast_node_interactivity=\"all\""
   ]
  },
  {
   "cell_type": "code",
   "execution_count": null,
   "id": "839efbdb",
   "metadata": {},
   "outputs": [],
   "source": [
    "## 피봇팅(pivoting)\n",
    "\n",
    "- 가지고 있는 데이터원본을 원하는 형태의 가공된 정보를 보여주는 것\n",
    "    - 자료의 형태를 변경하기 위해 많이 사용하는 방법 \n",
    "- 엑셀에도 있음. \n",
    "- 인덱스, 컬럼, 벨류스가 컬럼으로 있을 때 , 한 컬럼은 인덱스, 한 컬럼은 컬럼, 한 컬럼은 데이터로 \n",
    "- 특정 기준으로 데이터를 재정렬"
   ]
  }
 ],
 "metadata": {
  "kernelspec": {
   "display_name": "Python 3 (ipykernel)",
   "language": "python",
   "name": "python3"
  },
  "language_info": {
   "codemirror_mode": {
    "name": "ipython",
    "version": 3
   },
   "file_extension": ".py",
   "mimetype": "text/x-python",
   "name": "python",
   "nbconvert_exporter": "python",
   "pygments_lexer": "ipython3",
   "version": "3.9.13"
  }
 },
 "nbformat": 4,
 "nbformat_minor": 5
}
